{
  "nbformat": 4,
  "nbformat_minor": 0,
  "metadata": {
    "colab": {
      "name": "Classic_classification.ipynb",
      "provenance": [],
      "collapsed_sections": [],
      "mount_file_id": "1qoMLcFuTWzfWmPIabk9w1Iy1BCQvarxY",
      "authorship_tag": "ABX9TyMBbNCBlhr1cr1YKHYMZV9E",
      "include_colab_link": true
    },
    "kernelspec": {
      "name": "python3",
      "display_name": "Python 3"
    },
    "language_info": {
      "name": "python"
    },
    "accelerator": "GPU"
  },
  "cells": [
    {
      "cell_type": "markdown",
      "metadata": {
        "id": "view-in-github",
        "colab_type": "text"
      },
      "source": [
        "<a href=\"https://colab.research.google.com/github/irisawa/fy21compe/blob/main/Classic_classification.ipynb\" target=\"_parent\"><img src=\"https://colab.research.google.com/assets/colab-badge.svg\" alt=\"Open In Colab\"/></a>"
      ]
    },
    {
      "cell_type": "markdown",
      "metadata": {
        "id": "EmmVcgtLC6Fx"
      },
      "source": [
        "# BERT以前の手法\n",
        "\n",
        "-  Naive Bayes\n",
        "-  Logistic Regression\n",
        "-  SVM\n",
        "-  Random Forest\n",
        "- XGBoosting"
      ]
    },
    {
      "cell_type": "code",
      "metadata": {
        "id": "pK9Jbw7-C5TT"
      },
      "source": [
        "!pip install sklearn --quiet\n",
        "!pip install pandas --quiet"
      ],
      "execution_count": null,
      "outputs": []
    },
    {
      "cell_type": "code",
      "metadata": {
        "id": "cKi39mbuESCe"
      },
      "source": [
        "# importing packages\n",
        "import pandas as pd\n",
        "import re\n",
        "import numpy as np\n",
        "import seaborn as sns\n",
        "import matplotlib.pyplot as plt\n",
        "import time\n",
        "%matplotlib inline\n",
        "\n",
        "# sklearn packages\n",
        "from sklearn import metrics\n",
        "from sklearn.feature_extraction.text import TfidfVectorizer, CountVectorizer\n",
        "from sklearn.model_selection import train_test_split, GridSearchCV, cross_val_score, StratifiedKFold\n",
        "from sklearn.pipeline import Pipeline, FeatureUnion\n",
        "from sklearn.preprocessing import FunctionTransformer, StandardScaler\n",
        "from sklearn.base import BaseEstimator, TransformerMixin\n",
        "from sklearn.neighbors import KNeighborsClassifier\n",
        "from sklearn.tree import DecisionTreeClassifier\n",
        "from sklearn.ensemble import RandomForestClassifier, AdaBoostClassifier\n",
        "from sklearn.naive_bayes import MultinomialNB\n",
        "from sklearn.dummy import DummyClassifier\n",
        "from sklearn import preprocessing\n",
        "from sklearn.metrics import classification_report\n",
        "from sklearn.svm import LinearSVC\n",
        "from sklearn.metrics import precision_recall_fscore_support as score\n",
        "from sklearn.metrics import plot_confusion_matrix\n",
        "from sklearn.ensemble import GradientBoostingClassifier\n",
        "from sklearn.linear_model import LogisticRegression\n",
        "\n",
        "# nltk packages\n",
        "import nltk\n",
        "from nltk import word_tokenize\n",
        "from nltk.stem import WordNetLemmatizer \n",
        "from nltk.corpus import stopwords\n",
        "from string import punctuation"
      ],
      "execution_count": null,
      "outputs": []
    },
    {
      "cell_type": "code",
      "metadata": {
        "colab": {
          "base_uri": "https://localhost:8080/",
          "height": 202
        },
        "id": "yGQqzzTIEbPe",
        "outputId": "02e9125f-fcca-400e-f713-72e902a21d12"
      },
      "source": [
        "df = pd.read_csv(\"/content/drive/MyDrive/data/training.tsv\", delimiter='\\t')\n",
        "df.head()"
      ],
      "execution_count": null,
      "outputs": [
        {
          "output_type": "execute_result",
          "data": {
            "text/html": [
              "<div>\n",
              "<style scoped>\n",
              "    .dataframe tbody tr th:only-of-type {\n",
              "        vertical-align: middle;\n",
              "    }\n",
              "\n",
              "    .dataframe tbody tr th {\n",
              "        vertical-align: top;\n",
              "    }\n",
              "\n",
              "    .dataframe thead th {\n",
              "        text-align: right;\n",
              "    }\n",
              "</style>\n",
              "<table border=\"1\" class=\"dataframe\">\n",
              "  <thead>\n",
              "    <tr style=\"text-align: right;\">\n",
              "      <th></th>\n",
              "      <th>sid</th>\n",
              "      <th>sentence</th>\n",
              "      <th>html_id</th>\n",
              "      <th>label</th>\n",
              "    </tr>\n",
              "  </thead>\n",
              "  <tbody>\n",
              "    <tr>\n",
              "      <th>0</th>\n",
              "      <td>tr-01-0000</td>\n",
              "      <td>PART I</td>\n",
              "      <td>Form10k_01</td>\n",
              "      <td>0</td>\n",
              "    </tr>\n",
              "    <tr>\n",
              "      <th>1</th>\n",
              "      <td>tr-01-0001</td>\n",
              "      <td>The “Business” section and other parts of this...</td>\n",
              "      <td>Form10k_01</td>\n",
              "      <td>0</td>\n",
              "    </tr>\n",
              "    <tr>\n",
              "      <th>2</th>\n",
              "      <td>tr-01-0002</td>\n",
              "      <td>Statements that are not historical facts, inc...</td>\n",
              "      <td>Form10k_01</td>\n",
              "      <td>0</td>\n",
              "    </tr>\n",
              "    <tr>\n",
              "      <th>3</th>\n",
              "      <td>tr-01-0003</td>\n",
              "      <td>Our actual results may differ materially from...</td>\n",
              "      <td>Form10k_01</td>\n",
              "      <td>0</td>\n",
              "    </tr>\n",
              "    <tr>\n",
              "      <th>4</th>\n",
              "      <td>tr-01-0004</td>\n",
              "      <td>Factors that could cause such differences inc...</td>\n",
              "      <td>Form10k_01</td>\n",
              "      <td>0</td>\n",
              "    </tr>\n",
              "  </tbody>\n",
              "</table>\n",
              "</div>"
            ],
            "text/plain": [
              "          sid  ... label\n",
              "0  tr-01-0000  ...     0\n",
              "1  tr-01-0001  ...     0\n",
              "2  tr-01-0002  ...     0\n",
              "3  tr-01-0003  ...     0\n",
              "4  tr-01-0004  ...     0\n",
              "\n",
              "[5 rows x 4 columns]"
            ]
          },
          "metadata": {},
          "execution_count": 3
        }
      ]
    },
    {
      "cell_type": "code",
      "metadata": {
        "colab": {
          "base_uri": "https://localhost:8080/",
          "height": 202
        },
        "id": "ee_FR4nvEs4J",
        "outputId": "c4233661-a215-4350-99a6-1a73c8143a0f"
      },
      "source": [
        "test_df = pd.read_csv(\"/content/drive/MyDrive/data/test.tsv\", delimiter='\\t')\n",
        "test_df.head()"
      ],
      "execution_count": null,
      "outputs": [
        {
          "output_type": "execute_result",
          "data": {
            "text/html": [
              "<div>\n",
              "<style scoped>\n",
              "    .dataframe tbody tr th:only-of-type {\n",
              "        vertical-align: middle;\n",
              "    }\n",
              "\n",
              "    .dataframe tbody tr th {\n",
              "        vertical-align: top;\n",
              "    }\n",
              "\n",
              "    .dataframe thead th {\n",
              "        text-align: right;\n",
              "    }\n",
              "</style>\n",
              "<table border=\"1\" class=\"dataframe\">\n",
              "  <thead>\n",
              "    <tr style=\"text-align: right;\">\n",
              "      <th></th>\n",
              "      <th>sid</th>\n",
              "      <th>sentence</th>\n",
              "      <th>html_id</th>\n",
              "    </tr>\n",
              "  </thead>\n",
              "  <tbody>\n",
              "    <tr>\n",
              "      <th>0</th>\n",
              "      <td>pb-09-0000</td>\n",
              "      <td>PART I</td>\n",
              "      <td>Form10k_09</td>\n",
              "    </tr>\n",
              "    <tr>\n",
              "      <th>1</th>\n",
              "      <td>pb-09-0001</td>\n",
              "      <td>In this Annual Report on Form 10-K, unless oth...</td>\n",
              "      <td>Form10k_09</td>\n",
              "    </tr>\n",
              "    <tr>\n",
              "      <th>2</th>\n",
              "      <td>pb-09-0002</td>\n",
              "      <td>We use the term “Holding Company” to refer sol...</td>\n",
              "      <td>Form10k_09</td>\n",
              "    </tr>\n",
              "    <tr>\n",
              "      <th>3</th>\n",
              "      <td>pb-09-0003</td>\n",
              "      <td>Item 1.</td>\n",
              "      <td>Form10k_09</td>\n",
              "    </tr>\n",
              "    <tr>\n",
              "      <th>4</th>\n",
              "      <td>pb-09-0004</td>\n",
              "      <td>Business</td>\n",
              "      <td>Form10k_09</td>\n",
              "    </tr>\n",
              "  </tbody>\n",
              "</table>\n",
              "</div>"
            ],
            "text/plain": [
              "          sid                                           sentence     html_id\n",
              "0  pb-09-0000                                             PART I  Form10k_09\n",
              "1  pb-09-0001  In this Annual Report on Form 10-K, unless oth...  Form10k_09\n",
              "2  pb-09-0002  We use the term “Holding Company” to refer sol...  Form10k_09\n",
              "3  pb-09-0003                                            Item 1.  Form10k_09\n",
              "4  pb-09-0004                                           Business  Form10k_09"
            ]
          },
          "metadata": {},
          "execution_count": 4
        }
      ]
    },
    {
      "cell_type": "code",
      "metadata": {
        "colab": {
          "base_uri": "https://localhost:8080/",
          "height": 202
        },
        "id": "oMI-FGu2E3-6",
        "outputId": "dfbd8f25-decf-4480-903a-b21bad56d6af"
      },
      "source": [
        "minimum_num = df['label'].value_counts().min()\n",
        "dfs = [d.sample(minimum_num, random_state=0) for name, d in df.groupby('label')]\n",
        "under_resampled_df = pd.concat(dfs).sample(frac=1, random_state=0)\n",
        "X_resampled = under_resampled_df.to_numpy()\n",
        "dfx = pd.DataFrame(X_resampled)\n",
        "dfx = dfx.set_axis(['sid', 'sentence', 'html_id', 'label'], axis=1)\n",
        "dfx.head()"
      ],
      "execution_count": null,
      "outputs": [
        {
          "output_type": "execute_result",
          "data": {
            "text/html": [
              "<div>\n",
              "<style scoped>\n",
              "    .dataframe tbody tr th:only-of-type {\n",
              "        vertical-align: middle;\n",
              "    }\n",
              "\n",
              "    .dataframe tbody tr th {\n",
              "        vertical-align: top;\n",
              "    }\n",
              "\n",
              "    .dataframe thead th {\n",
              "        text-align: right;\n",
              "    }\n",
              "</style>\n",
              "<table border=\"1\" class=\"dataframe\">\n",
              "  <thead>\n",
              "    <tr style=\"text-align: right;\">\n",
              "      <th></th>\n",
              "      <th>sid</th>\n",
              "      <th>sentence</th>\n",
              "      <th>html_id</th>\n",
              "      <th>label</th>\n",
              "    </tr>\n",
              "  </thead>\n",
              "  <tbody>\n",
              "    <tr>\n",
              "      <th>0</th>\n",
              "      <td>tr-60-0187</td>\n",
              "      <td>The CCPA provides for civil penalties for viol...</td>\n",
              "      <td>Form10k_60</td>\n",
              "      <td>3</td>\n",
              "    </tr>\n",
              "    <tr>\n",
              "      <th>1</th>\n",
              "      <td>tr-55-0457</td>\n",
              "      <td>Further, regulation of GHG emissions may limit...</td>\n",
              "      <td>Form10k_55</td>\n",
              "      <td>1</td>\n",
              "    </tr>\n",
              "    <tr>\n",
              "      <th>2</th>\n",
              "      <td>tr-63-0077</td>\n",
              "      <td>Consumers increasingly demand computing device...</td>\n",
              "      <td>Form10k_63</td>\n",
              "      <td>1</td>\n",
              "    </tr>\n",
              "    <tr>\n",
              "      <th>3</th>\n",
              "      <td>tr-30-0815</td>\n",
              "      <td>Despite our agreement to obtain an opinion fro...</td>\n",
              "      <td>Form10k_30</td>\n",
              "      <td>0</td>\n",
              "    </tr>\n",
              "    <tr>\n",
              "      <th>4</th>\n",
              "      <td>tr-15-0700</td>\n",
              "      <td>Effective January 1, 2018, the Federal Departm...</td>\n",
              "      <td>Form10k_15</td>\n",
              "      <td>1</td>\n",
              "    </tr>\n",
              "  </tbody>\n",
              "</table>\n",
              "</div>"
            ],
            "text/plain": [
              "          sid  ... label\n",
              "0  tr-60-0187  ...     3\n",
              "1  tr-55-0457  ...     1\n",
              "2  tr-63-0077  ...     1\n",
              "3  tr-30-0815  ...     0\n",
              "4  tr-15-0700  ...     1\n",
              "\n",
              "[5 rows x 4 columns]"
            ]
          },
          "metadata": {},
          "execution_count": 5
        }
      ]
    },
    {
      "cell_type": "code",
      "metadata": {
        "colab": {
          "base_uri": "https://localhost:8080/"
        },
        "id": "9OVQcRUNFw6k",
        "outputId": "8bd9c311-9f1e-49c4-ddd6-16833e983084"
      },
      "source": [
        "dfx.label.value_counts()"
      ],
      "execution_count": null,
      "outputs": [
        {
          "output_type": "execute_result",
          "data": {
            "text/plain": [
              "3    191\n",
              "2    191\n",
              "1    191\n",
              "0    191\n",
              "Name: label, dtype: int64"
            ]
          },
          "metadata": {},
          "execution_count": 6
        }
      ]
    },
    {
      "cell_type": "code",
      "metadata": {
        "id": "UKJWw-26F2lW"
      },
      "source": [
        "def preprocess_corpus(df, column='text'):\n",
        "    df[column] = df[column].apply(clean_text)\n",
        "    return df"
      ],
      "execution_count": null,
      "outputs": []
    },
    {
      "cell_type": "code",
      "metadata": {
        "id": "mSohLmJkF3JS"
      },
      "source": [
        "def clean_text(text):\n",
        "    text = text.lower()\n",
        "    remove_xx_seq  = re.compile('xx+')\n",
        "    replace_by_space = re.compile('[/(){}\\[\\]\\|@,;”“]')\n",
        "    remove_special_characters = re.compile('[^0-9a-z +]')\n",
        "    remove_extra_space = re.compile('[^A-Za-z0-9]+')\n",
        "    remove_numbers = re.compile('[0-9]+')\n",
        "    text = re.sub(remove_xx_seq, ' ', text)\n",
        "    text = re.sub(replace_by_space, ' ', text)\n",
        "    text = re.sub(remove_special_characters, ' ', text)\n",
        "    text = re.sub(remove_numbers, ' ', text)\n",
        "    text = re.sub(remove_extra_space, ' ', text)\n",
        "    return text.strip()"
      ],
      "execution_count": null,
      "outputs": []
    },
    {
      "cell_type": "code",
      "metadata": {
        "colab": {
          "base_uri": "https://localhost:8080/"
        },
        "id": "92H43yEpGJTy",
        "outputId": "020f6438-f5a7-4377-82ae-11b2341ba180"
      },
      "source": [
        "print('Cleaning the text...', end='')\n",
        "dfz = preprocess_corpus(dfx, column='sentence')\n",
        "print('done.')"
      ],
      "execution_count": null,
      "outputs": [
        {
          "output_type": "stream",
          "name": "stdout",
          "text": [
            "Cleaning the text...done.\n"
          ]
        }
      ]
    },
    {
      "cell_type": "code",
      "metadata": {
        "colab": {
          "base_uri": "https://localhost:8080/",
          "height": 202
        },
        "id": "uPVDVHVRGM20",
        "outputId": "1ae7f801-cfed-4cc3-c2b4-88d75ec50624"
      },
      "source": [
        "dfz.head()"
      ],
      "execution_count": null,
      "outputs": [
        {
          "output_type": "execute_result",
          "data": {
            "text/html": [
              "<div>\n",
              "<style scoped>\n",
              "    .dataframe tbody tr th:only-of-type {\n",
              "        vertical-align: middle;\n",
              "    }\n",
              "\n",
              "    .dataframe tbody tr th {\n",
              "        vertical-align: top;\n",
              "    }\n",
              "\n",
              "    .dataframe thead th {\n",
              "        text-align: right;\n",
              "    }\n",
              "</style>\n",
              "<table border=\"1\" class=\"dataframe\">\n",
              "  <thead>\n",
              "    <tr style=\"text-align: right;\">\n",
              "      <th></th>\n",
              "      <th>sid</th>\n",
              "      <th>sentence</th>\n",
              "      <th>html_id</th>\n",
              "      <th>label</th>\n",
              "    </tr>\n",
              "  </thead>\n",
              "  <tbody>\n",
              "    <tr>\n",
              "      <th>0</th>\n",
              "      <td>tr-60-0187</td>\n",
              "      <td>the ccpa provides for civil penalties for viol...</td>\n",
              "      <td>Form10k_60</td>\n",
              "      <td>3</td>\n",
              "    </tr>\n",
              "    <tr>\n",
              "      <th>1</th>\n",
              "      <td>tr-55-0457</td>\n",
              "      <td>further regulation of ghg emissions may limit ...</td>\n",
              "      <td>Form10k_55</td>\n",
              "      <td>1</td>\n",
              "    </tr>\n",
              "    <tr>\n",
              "      <th>2</th>\n",
              "      <td>tr-63-0077</td>\n",
              "      <td>consumers increasingly demand computing device...</td>\n",
              "      <td>Form10k_63</td>\n",
              "      <td>1</td>\n",
              "    </tr>\n",
              "    <tr>\n",
              "      <th>3</th>\n",
              "      <td>tr-30-0815</td>\n",
              "      <td>despite our agreement to obtain an opinion fro...</td>\n",
              "      <td>Form10k_30</td>\n",
              "      <td>0</td>\n",
              "    </tr>\n",
              "    <tr>\n",
              "      <th>4</th>\n",
              "      <td>tr-15-0700</td>\n",
              "      <td>effective january the federal department of en...</td>\n",
              "      <td>Form10k_15</td>\n",
              "      <td>1</td>\n",
              "    </tr>\n",
              "  </tbody>\n",
              "</table>\n",
              "</div>"
            ],
            "text/plain": [
              "          sid  ... label\n",
              "0  tr-60-0187  ...     3\n",
              "1  tr-55-0457  ...     1\n",
              "2  tr-63-0077  ...     1\n",
              "3  tr-30-0815  ...     0\n",
              "4  tr-15-0700  ...     1\n",
              "\n",
              "[5 rows x 4 columns]"
            ]
          },
          "metadata": {},
          "execution_count": 10
        }
      ]
    },
    {
      "cell_type": "code",
      "metadata": {
        "id": "wR4-ZV3cGkzE"
      },
      "source": [
        "def compute_tfidf(corpus, stop_words='english', ngram_range=(1, 1), max_features=None):\n",
        "    vectorizer = TfidfVectorizer(input='content', stop_words=stop_words, ngram_range=ngram_range, min_df=3, max_df=0.9, max_features=max_features)\n",
        "    print('Computing tfidf features...', end='')\n",
        "    X = vectorizer.fit_transform(corpus)\n",
        "    print('done!')\n",
        "    return X, vectorizer"
      ],
      "execution_count": null,
      "outputs": []
    },
    {
      "cell_type": "code",
      "metadata": {
        "id": "Ldz1yRtTJNd_"
      },
      "source": [
        "def encode_labels(labels):\n",
        "    \"\"\" Encode the class labels into a numbers. \"\"\"\n",
        "    label_encoder = preprocessing.LabelEncoder()\n",
        "    label_encoder.fit(labels)\n",
        "    return label_encoder"
      ],
      "execution_count": null,
      "outputs": []
    },
    {
      "cell_type": "code",
      "metadata": {
        "colab": {
          "base_uri": "https://localhost:8080/"
        },
        "id": "2DGWQEvNGpGa",
        "outputId": "2e4523ac-aa61-44f0-cfca-92157d721830"
      },
      "source": [
        "from sklearn import preprocessing\n",
        "\n",
        "stop_words    = 'english'\n",
        "ngram_range   = (1, 1)\n",
        "max_features  = None\n",
        "X, vectorizer = compute_tfidf(dfz['sentence'], stop_words, ngram_range, max_features)\n",
        "\n",
        "# Encode the labels\n",
        "labels = dfz.label.unique()\n",
        "label_encoder = encode_labels(labels)\n",
        "y = label_encoder.transform(dfz.label)"
      ],
      "execution_count": null,
      "outputs": [
        {
          "output_type": "stream",
          "name": "stdout",
          "text": [
            "Computing tfidf features...done!\n"
          ]
        }
      ]
    },
    {
      "cell_type": "code",
      "metadata": {
        "colab": {
          "base_uri": "https://localhost:8080/"
        },
        "id": "14M7mgaWOnaY",
        "outputId": "59ab1ea8-10c9-492f-b72e-fdc33aca1018"
      },
      "source": [
        "labels=list(map(str,labels))\n",
        "labels"
      ],
      "execution_count": null,
      "outputs": [
        {
          "output_type": "execute_result",
          "data": {
            "text/plain": [
              "['3', '1', '0', '2']"
            ]
          },
          "metadata": {},
          "execution_count": 14
        }
      ]
    },
    {
      "cell_type": "code",
      "metadata": {
        "colab": {
          "base_uri": "https://localhost:8080/"
        },
        "id": "1sgrbU_fHMiZ",
        "outputId": "2304cc9a-0629-4c19-fcc5-38314cddfeaa"
      },
      "source": [
        "X_train, X_test, y_train, y_test = train_test_split(X, y, test_size=0.2, stratify=y)\n",
        "print('Training set Shape: {}  | Test set Shape: {}'.format(X_train.shape, X_test.shape))"
      ],
      "execution_count": null,
      "outputs": [
        {
          "output_type": "stream",
          "name": "stdout",
          "text": [
            "Training set Shape: (611, 1014)  | Test set Shape: (153, 1014)\n"
          ]
        }
      ]
    },
    {
      "cell_type": "code",
      "metadata": {
        "id": "pfDslpNfIAPs"
      },
      "source": [
        "def train_test_model(model, X_train, X_test, y_train, y_test,labels):\n",
        "    print('Start training...', end='')\n",
        "    model.fit(X_train, y_train)\n",
        "    print('done!')\n",
        "    print('Start testing...', end='')\n",
        "    predictions = model.predict(X_test)\n",
        "    accuracy = model.score(X_test, y_test)\n",
        "    metrics_report = classification_report(y_test, predictions, target_names=labels)\n",
        "    precision, recall, fscore, train_support = score(y_test, predictions, average='weighted')\n",
        "    print('done!')\n",
        "    return predictions, accuracy, metrics_report, (precision, recall, fscore)"
      ],
      "execution_count": null,
      "outputs": []
    },
    {
      "cell_type": "markdown",
      "metadata": {
        "id": "x1Ct3YBkIHPx"
      },
      "source": [
        "# Naive Bais"
      ]
    },
    {
      "cell_type": "code",
      "metadata": {
        "colab": {
          "base_uri": "https://localhost:8080/",
          "height": 575
        },
        "id": "BClmD1BzIFLx",
        "outputId": "72293d1b-550e-48a6-b210-a60523f79f40"
      },
      "source": [
        "from sklearn.metrics import classification_report\n",
        "from sklearn.metrics import precision_recall_fscore_support as score\n",
        "from sklearn.metrics import plot_confusion_matrix\n",
        "\n",
        "nb_model = MultinomialNB()\n",
        "print('Number of documents = {}  |  Number of features = {}'.format(X_train.shape[0], X_train.shape[1]))\n",
        "st_time = time.time()\n",
        "predictions, accuracy, metrics_report, nb_prf = train_test_model(nb_model, X_train, X_test, y_train, y_test, labels)\n",
        "en_time = time.time()\n",
        "print('Total time: {:.2f}s'.format(en_time-st_time))\n",
        "print('accuracy: {}'.format(accuracy))\n",
        "print('='*100)\n",
        "print(metrics_report)\n",
        "plot_confusion_matrix(nb_model, X_test, y_test, display_labels=labels, xticks_rotation='vertical', cmap=\"BuPu\")\n",
        "# plt.show()"
      ],
      "execution_count": null,
      "outputs": [
        {
          "output_type": "stream",
          "name": "stdout",
          "text": [
            "Number of documents = 611  |  Number of features = 1014\n",
            "Start training...done!\n",
            "Start testing...done!\n",
            "Total time: 0.01s\n",
            "accuracy: 0.7908496732026143\n",
            "====================================================================================================\n",
            "              precision    recall  f1-score   support\n",
            "\n",
            "           3       0.79      0.61      0.69        38\n",
            "           1       0.89      0.87      0.88        39\n",
            "           0       0.74      0.89      0.81        38\n",
            "           2       0.75      0.79      0.77        38\n",
            "\n",
            "    accuracy                           0.79       153\n",
            "   macro avg       0.79      0.79      0.79       153\n",
            "weighted avg       0.79      0.79      0.79       153\n",
            "\n"
          ]
        },
        {
          "output_type": "execute_result",
          "data": {
            "text/plain": [
              "<sklearn.metrics._plot.confusion_matrix.ConfusionMatrixDisplay at 0x7f9934bf2190>"
            ]
          },
          "metadata": {},
          "execution_count": 17
        },
        {
          "output_type": "display_data",
          "data": {
            "image/png": "[encoded data removed]",
            "text/plain": [
              "<Figure size 432x288 with 2 Axes>"
            ]
          },
          "metadata": {
            "needs_background": "light"
          }
        }
      ]
    },
    {
      "cell_type": "markdown",
      "metadata": {
        "id": "TC9IH3YcO3Hx"
      },
      "source": [
        "# Logistic Regression"
      ]
    },
    {
      "cell_type": "code",
      "metadata": {
        "colab": {
          "base_uri": "https://localhost:8080/",
          "height": 575
        },
        "id": "JoSRKXJ4IJnc",
        "outputId": "710ed360-a939-49b4-a0e9-07ba245b2cb8"
      },
      "source": [
        "from sklearn.linear_model import LogisticRegression\n",
        "\n",
        "log_model = LogisticRegression(penalty='l2', max_iter=500)\n",
        "print('Number of documents = {}  |  Number of features = {}'.format(X_train.shape[0], X_train.shape[1]))\n",
        "st_time = time.time()\n",
        "predictions, accuracy, metrics_report, log_prf = train_test_model(log_model, X_train, X_test, y_train, y_test, labels)\n",
        "en_time = time.time()\n",
        "print('Total time: {:.2f}s'.format(en_time-st_time))\n",
        "print('accuracy: {}'.format(accuracy))\n",
        "print('='*100)\n",
        "print(metrics_report)\n",
        "plot_confusion_matrix(log_model, X_test, y_test, display_labels=labels, xticks_rotation='vertical', cmap=\"BuPu\")"
      ],
      "execution_count": null,
      "outputs": [
        {
          "output_type": "stream",
          "name": "stdout",
          "text": [
            "Number of documents = 611  |  Number of features = 1014\n",
            "Start training...done!\n",
            "Start testing...done!\n",
            "Total time: 0.08s\n",
            "accuracy: 0.803921568627451\n",
            "====================================================================================================\n",
            "              precision    recall  f1-score   support\n",
            "\n",
            "           3       0.77      0.71      0.74        38\n",
            "           1       1.00      0.85      0.92        39\n",
            "           0       0.72      0.89      0.80        38\n",
            "           2       0.76      0.76      0.76        38\n",
            "\n",
            "    accuracy                           0.80       153\n",
            "   macro avg       0.81      0.80      0.80       153\n",
            "weighted avg       0.82      0.80      0.81       153\n",
            "\n"
          ]
        },
        {
          "output_type": "execute_result",
          "data": {
            "text/plain": [
              "<sklearn.metrics._plot.confusion_matrix.ConfusionMatrixDisplay at 0x7f9929c2f590>"
            ]
          },
          "metadata": {},
          "execution_count": 18
        },
        {
          "output_type": "display_data",
          "data": {
            "image/png": "[encoded data removed]",
            "text/plain": [
              "<Figure size 432x288 with 2 Axes>"
            ]
          },
          "metadata": {
            "needs_background": "light"
          }
        }
      ]
    },
    {
      "cell_type": "markdown",
      "metadata": {
        "id": "RH4Z0k5WTNU_"
      },
      "source": [
        "# SVM"
      ]
    },
    {
      "cell_type": "code",
      "metadata": {
        "colab": {
          "base_uri": "https://localhost:8080/",
          "height": 575
        },
        "id": "OynzgIh-TM45",
        "outputId": "bab07f8c-f2dd-4c39-ff09-da97521f4d1f"
      },
      "source": [
        "from sklearn.svm import LinearSVC\n",
        "\n",
        "svm = LinearSVC(class_weight='balanced', verbose=False, max_iter=10000, tol=1e-4, C=0.1)\n",
        "print('Number of documents = {}  |  Number of features = {}'.format(X_train.shape[0], X_train.shape[1]))\n",
        "st_time = time.time()\n",
        "predictions, accuracy, metrics_report, svm_prf = train_test_model(svm, X_train, X_test, y_train, y_test, labels)\n",
        "en_time = time.time()\n",
        "print('Total time: {:.2f}s'.format(en_time-st_time))\n",
        "print('accuracy: {}'.format(accuracy))\n",
        "print('='*100)\n",
        "print(metrics_report)\n",
        "plot_confusion_matrix(svm, X_test, y_test, display_labels=labels, xticks_rotation='vertical', cmap=\"BuPu\")"
      ],
      "execution_count": null,
      "outputs": [
        {
          "output_type": "stream",
          "name": "stdout",
          "text": [
            "Number of documents = 611  |  Number of features = 1014\n",
            "Start training...done!\n",
            "Start testing...done!\n",
            "Total time: 0.01s\n",
            "accuracy: 0.803921568627451\n",
            "====================================================================================================\n",
            "              precision    recall  f1-score   support\n",
            "\n",
            "           3       0.79      0.71      0.75        38\n",
            "           1       1.00      0.85      0.92        39\n",
            "           0       0.71      0.89      0.79        38\n",
            "           2       0.76      0.76      0.76        38\n",
            "\n",
            "    accuracy                           0.80       153\n",
            "   macro avg       0.82      0.80      0.81       153\n",
            "weighted avg       0.82      0.80      0.81       153\n",
            "\n"
          ]
        },
        {
          "output_type": "execute_result",
          "data": {
            "text/plain": [
              "<sklearn.metrics._plot.confusion_matrix.ConfusionMatrixDisplay at 0x7f9929a719d0>"
            ]
          },
          "metadata": {},
          "execution_count": 19
        },
        {
          "output_type": "display_data",
          "data": {
            "image/png": "[encoded data removed]",
            "text/plain": [
              "<Figure size 432x288 with 2 Axes>"
            ]
          },
          "metadata": {
            "needs_background": "light"
          }
        }
      ]
    },
    {
      "cell_type": "markdown",
      "metadata": {
        "id": "JqDeUfjkR_9-"
      },
      "source": [
        "# Random Forest"
      ]
    },
    {
      "cell_type": "code",
      "metadata": {
        "colab": {
          "base_uri": "https://localhost:8080/",
          "height": 575
        },
        "id": "jAgmdkTCRt3_",
        "outputId": "b6d8796c-65a9-4b41-ae78-f8cf1350373a"
      },
      "source": [
        "rf_model = RandomForestClassifier(n_estimators=100, max_depth=100, min_samples_split=10, n_jobs=-1, verbose=0)\n",
        "print('Number of documents = {}  |  Number of features = {}'.format(X_train.shape[0], X_train.shape[1]))\n",
        "st_time = time.time()\n",
        "predictions, accuracy, metrics_report, rf_prf = train_test_model(rf_model, X_train, X_test, y_train, y_test, labels)\n",
        "en_time = time.time()\n",
        "print('Total time: {:.2f}s'.format(en_time-st_time))\n",
        "print('accuracy: {}'.format(accuracy))\n",
        "print('='*100)\n",
        "print(metrics_report)\n",
        "plot_confusion_matrix(rf_model, X_test, y_test, display_labels=labels, xticks_rotation='vertical', cmap=\"BuPu\")"
      ],
      "execution_count": null,
      "outputs": [
        {
          "output_type": "stream",
          "name": "stdout",
          "text": [
            "Number of documents = 611  |  Number of features = 1014\n",
            "Start training...done!\n",
            "Start testing...done!\n",
            "Total time: 0.67s\n",
            "accuracy: 0.7908496732026143\n",
            "====================================================================================================\n",
            "              precision    recall  f1-score   support\n",
            "\n",
            "           3       0.68      0.84      0.75        38\n",
            "           1       0.97      0.85      0.90        39\n",
            "           0       0.75      0.87      0.80        38\n",
            "           2       0.82      0.61      0.70        38\n",
            "\n",
            "    accuracy                           0.79       153\n",
            "   macro avg       0.81      0.79      0.79       153\n",
            "weighted avg       0.81      0.79      0.79       153\n",
            "\n"
          ]
        },
        {
          "output_type": "execute_result",
          "data": {
            "text/plain": [
              "<sklearn.metrics._plot.confusion_matrix.ConfusionMatrixDisplay at 0x7f992946aa90>"
            ]
          },
          "metadata": {},
          "execution_count": 20
        },
        {
          "output_type": "display_data",
          "data": {
            "image/png": "[encoded data removed]",
            "text/plain": [
              "<Figure size 432x288 with 2 Axes>"
            ]
          },
          "metadata": {
            "needs_background": "light"
          }
        }
      ]
    },
    {
      "cell_type": "markdown",
      "metadata": {
        "id": "4epNnJR1SJt5"
      },
      "source": [
        "# Gradient Boosting"
      ]
    },
    {
      "cell_type": "code",
      "metadata": {
        "colab": {
          "base_uri": "https://localhost:8080/",
          "height": 525
        },
        "id": "uU5mqFnLSJME",
        "outputId": "c0909aaa-005b-4040-e922-944b9f9465d9"
      },
      "source": [
        "from sklearn.ensemble import GradientBoostingClassifier\n",
        "\n",
        "\n",
        "gb_model = GradientBoostingClassifier(n_estimators=50, max_depth=10)\n",
        "predictions, accuracy, metrics_report, gb_prf = train_test_model(gb_model, X_train, X_test, y_train, y_test, labels)\n",
        "print('accuracy: {}'.format(accuracy))\n",
        "print(metrics_report)\n",
        "plot_confusion_matrix(gb_model, X_test, y_test, display_labels=labels, xticks_rotation='vertical', cmap=\"BuPu\")"
      ],
      "execution_count": null,
      "outputs": [
        {
          "output_type": "stream",
          "name": "stdout",
          "text": [
            "Start training...done!\n",
            "Start testing...done!\n",
            "accuracy: 0.7712418300653595\n",
            "              precision    recall  f1-score   support\n",
            "\n",
            "           3       0.68      0.79      0.73        38\n",
            "           1       0.97      0.85      0.90        39\n",
            "           0       0.74      0.74      0.74        38\n",
            "           2       0.73      0.71      0.72        38\n",
            "\n",
            "    accuracy                           0.77       153\n",
            "   macro avg       0.78      0.77      0.77       153\n",
            "weighted avg       0.78      0.77      0.77       153\n",
            "\n"
          ]
        },
        {
          "output_type": "execute_result",
          "data": {
            "text/plain": [
              "<sklearn.metrics._plot.confusion_matrix.ConfusionMatrixDisplay at 0x7f992944ab10>"
            ]
          },
          "metadata": {},
          "execution_count": 21
        },
        {
          "output_type": "display_data",
          "data": {
            "image/png": "[encoded data removed]",
            "text/plain": [
              "<Figure size 432x288 with 2 Axes>"
            ]
          },
          "metadata": {
            "needs_background": "light"
          }
        }
      ]
    },
    {
      "cell_type": "markdown",
      "metadata": {
        "id": "NoBbvdEASsuj"
      },
      "source": [
        "# Sammary"
      ]
    },
    {
      "cell_type": "code",
      "metadata": {
        "colab": {
          "base_uri": "https://localhost:8080/",
          "height": 278
        },
        "id": "sG7RMlt0SsIf",
        "outputId": "0d99f477-3644-4f0f-d4a3-6b94343325e2"
      },
      "source": [
        "xx = np.array([1,2,3])\n",
        "width = 0.15\n",
        "ax = plt.subplot(111)\n",
        "ax.bar( xx - width, height=np.array(nb_prf), width=width, color='b', align='center', label='NB', tick_label=['Precision', 'Recall', 'f1'])\n",
        "ax.bar(xx ,height=np.array(log_prf), width=width, color='g', align='center', label='Log_Reg')\n",
        "ax.bar(xx + width, height=np.array(svm_prf), width=width, color='r', align='center', label='SVM')\n",
        "ax.bar(xx + 2*width, height=np.array(rf_prf), width=width, color='y', align='center', label='Random Forest')\n",
        "ax.bar(xx + 3*width, height=np.array(gb_prf), width=width, color='black', align='center', label='Gradient Boosting')\n",
        "\n",
        "\n",
        "plt.xlabel('Classification Metrics')\n",
        "plt.ylabel('Scores')\n",
        "plt.legend(loc='lower right')\n",
        "plt.show()"
      ],
      "execution_count": null,
      "outputs": [
        {
          "output_type": "display_data",
          "data": {
            "image/png": "[encoded data removed]",
            "text/plain": [
              "<Figure size 432x288 with 1 Axes>"
            ]
          },
          "metadata": {
            "needs_background": "light"
          }
        }
      ]
    },
    {
      "cell_type": "markdown",
      "metadata": {
        "id": "GwBa3ag9XDJB"
      },
      "source": [
        "# Cross Validation\n",
        "\n",
        "## Naive Bayes Cross Validation\n"
      ]
    },
    {
      "cell_type": "code",
      "metadata": {
        "colab": {
          "base_uri": "https://localhost:8080/"
        },
        "id": "JQjhzcy-St7h",
        "outputId": "94b53c40-0716-4072-8857-04cd72b29eba"
      },
      "source": [
        "skfold = StratifiedKFold(n_splits=5, shuffle=True, random_state=123)\n",
        "nb_model = MultinomialNB()\n",
        "\n",
        "accs = []\n",
        "reports = []\n",
        "f1_scores = []\n",
        "st_time = time.time()\n",
        "for train_index, test_index in skfold.split(X,y):\n",
        "    X_train, X_test = X[train_index], X[test_index]\n",
        "    y_train, y_test = y[train_index], y[test_index]\n",
        "    predictions, accuracy, metrics_report, nb_prf_x = train_test_model(nb_model, X_train, X_test, y_train, y_test, labels)\n",
        "    accs.append(accuracy)\n",
        "    reports.append(metrics_report)\n",
        "    \n",
        "en_time = time.time()\n",
        "print('Total time: {:.2f}s'.format(en_time-st_time))   \n",
        "print('mean accuracy: {:.2f}'.format(np.mean(accs)))"
      ],
      "execution_count": null,
      "outputs": [
        {
          "output_type": "stream",
          "name": "stdout",
          "text": [
            "Start training...done!\n",
            "Start testing...done!\n",
            "Start training...done!\n",
            "Start testing...done!\n",
            "Start training...done!\n",
            "Start testing...done!\n",
            "Start training...done!\n",
            "Start testing...done!\n",
            "Start training...done!\n",
            "Start testing...done!\n",
            "Total time: 0.05s\n",
            "mean accuracy: 0.79\n"
          ]
        }
      ]
    },
    {
      "cell_type": "markdown",
      "metadata": {
        "id": "Dc_KC1F4XS3c"
      },
      "source": [
        "## Logistic Regression Cross Validation"
      ]
    },
    {
      "cell_type": "code",
      "metadata": {
        "colab": {
          "base_uri": "https://localhost:8080/"
        },
        "id": "WSFz3-7sXMYz",
        "outputId": "eb5d942b-07db-4da9-b207-bc36e901e764"
      },
      "source": [
        "log_model = LogisticRegression(penalty='l2', max_iter=500)\n",
        "accs = []\n",
        "reports = []\n",
        "st_time = time.time()\n",
        "for train_index, test_index in skfold.split(X,y):\n",
        "    X_train, X_test = X[train_index], X[test_index]\n",
        "    y_train, y_test = y[train_index], y[test_index]\n",
        "    predictions, accuracy, metrics_report, log_prf_x = train_test_model(log_model, X_train, X_test, y_train, y_test, labels)\n",
        "    accs.append(accuracy)\n",
        "    reports.append(metrics_report)\n",
        "\n",
        "en_time = time.time()\n",
        "print('Total time: {:.2f}s'.format(en_time-st_time))   \n",
        "print('mean accuracy: {:.2f}'.format(np.mean(accs)))"
      ],
      "execution_count": null,
      "outputs": [
        {
          "output_type": "stream",
          "name": "stdout",
          "text": [
            "Start training...done!\n",
            "Start testing...done!\n",
            "Start training...done!\n",
            "Start testing...done!\n",
            "Start training...done!\n",
            "Start testing...done!\n",
            "Start training...done!\n",
            "Start testing...done!\n",
            "Start training...done!\n",
            "Start testing...done!\n",
            "Total time: 0.45s\n",
            "mean accuracy: 0.79\n"
          ]
        }
      ]
    },
    {
      "cell_type": "markdown",
      "metadata": {
        "id": "H76861d6X0po"
      },
      "source": [
        "## SVM Cross Validation"
      ]
    },
    {
      "cell_type": "code",
      "metadata": {
        "colab": {
          "base_uri": "https://localhost:8080/"
        },
        "id": "yN4vaJb8X1w6",
        "outputId": "38b3eaa8-ad01-449e-c666-24a4b1c60100"
      },
      "source": [
        "svm = LinearSVC(class_weight='balanced', verbose=False, max_iter=10000, tol=1e-4, C=0.1)\n",
        "accs = []\n",
        "reports = []\n",
        "st_time = time.time()\n",
        "for train_index, test_index in skfold.split(X,y):\n",
        "    X_train, X_test = X[train_index], X[test_index]\n",
        "    y_train, y_test = y[train_index], y[test_index]\n",
        "    predictions, accuracy, metrics_report, svm_prf_x = train_test_model(svm, X_train, X_test, y_train, y_test, labels)\n",
        "    accs.append(accuracy)\n",
        "    reports.append(metrics_report)\n",
        "\n",
        "en_time = time.time()\n",
        "print('Total time: {:.2f}s'.format(en_time-st_time)) \n",
        "print('mean accuracy: {:.2f}'.format(np.mean(accs)))"
      ],
      "execution_count": null,
      "outputs": [
        {
          "output_type": "stream",
          "name": "stdout",
          "text": [
            "Start training...done!\n",
            "Start testing...done!\n",
            "Start training...done!\n",
            "Start testing...done!\n",
            "Start training...done!\n",
            "Start testing...done!\n",
            "Start training...done!\n",
            "Start testing...done!\n",
            "Start training...done!\n",
            "Start testing...done!\n",
            "Total time: 0.06s\n",
            "mean accuracy: 0.79\n"
          ]
        }
      ]
    },
    {
      "cell_type": "markdown",
      "metadata": {
        "id": "HOzSARBLYJnw"
      },
      "source": [
        "## Random Forest Cross Validation"
      ]
    },
    {
      "cell_type": "code",
      "metadata": {
        "colab": {
          "base_uri": "https://localhost:8080/"
        },
        "id": "lSUy92z8YKZQ",
        "outputId": "64644c36-166c-4cc6-c3c5-7e3ad9bc4782"
      },
      "source": [
        "rf_model = RandomForestClassifier(n_estimators=100, max_depth=100, min_samples_split=10, n_jobs=-1, verbose=0)\n",
        "accs = []\n",
        "reports = []\n",
        "st_time = time.time()\n",
        "for train_index, test_index in skfold.split(X,y):\n",
        "    X_train, X_test = X[train_index], X[test_index]\n",
        "    y_train, y_test = y[train_index], y[test_index]\n",
        "    predictions, accuracy, metrics_report, rf_prf_x = train_test_model(rf_model, X_train, X_test, y_train, y_test, labels)\n",
        "    accs.append(accuracy)\n",
        "    reports.append(metrics_report)\n",
        "\n",
        "en_time = time.time()\n",
        "print('Total time: {:.2f}s'.format(en_time-st_time)) \n",
        "print('mean accuracy: {:.2f}'.format(np.mean(accs)))"
      ],
      "execution_count": null,
      "outputs": [
        {
          "output_type": "stream",
          "name": "stdout",
          "text": [
            "Start training...done!\n",
            "Start testing...done!\n",
            "Start training...done!\n",
            "Start testing...done!\n",
            "Start training...done!\n",
            "Start testing...done!\n",
            "Start training...done!\n",
            "Start testing...done!\n",
            "Start training...done!\n",
            "Start testing...done!\n",
            "Total time: 2.83s\n",
            "mean accuracy: 0.75\n"
          ]
        }
      ]
    },
    {
      "cell_type": "markdown",
      "metadata": {
        "id": "2at8C8KTZ11w"
      },
      "source": [
        "## Gradient Boosting  Cross Validation\n"
      ]
    },
    {
      "cell_type": "code",
      "metadata": {
        "colab": {
          "base_uri": "https://localhost:8080/"
        },
        "id": "rkspfYYcat5n",
        "outputId": "a3b13295-a548-4137-d97a-61761b96d587"
      },
      "source": [
        "gb_model = GradientBoostingClassifier(n_estimators=50, max_depth=10)\n",
        "accs = []\n",
        "reports = []\n",
        "st_time = time.time()\n",
        "for train_index, test_index in skfold.split(X,y):\n",
        "    X_train, X_test = X[train_index], X[test_index]\n",
        "    y_train, y_test = y[train_index], y[test_index]\n",
        "    predictions, accuracy, metrics_report, gb_prf_x = train_test_model(rf_model, X_train, X_test, y_train, y_test, labels)\n",
        "    accs.append(accuracy)\n",
        "    reports.append(metrics_report)\n",
        "\n",
        "en_time = time.time()\n",
        "print('Total time: {:.2f}s'.format(en_time-st_time)) \n",
        "print('mean accuracy: {:.2f}'.format(np.mean(accs)))"
      ],
      "execution_count": null,
      "outputs": [
        {
          "output_type": "stream",
          "name": "stdout",
          "text": [
            "Start training...done!\n",
            "Start testing...done!\n",
            "Start training...done!\n",
            "Start testing...done!\n",
            "Start training...done!\n",
            "Start testing...done!\n",
            "Start training...done!\n",
            "Start testing...done!\n",
            "Start training...done!\n",
            "Start testing...done!\n",
            "Total time: 2.84s\n",
            "mean accuracy: 0.73\n"
          ]
        }
      ]
    },
    {
      "cell_type": "code",
      "metadata": {
        "colab": {
          "base_uri": "https://localhost:8080/",
          "height": 278
        },
        "id": "en8LTqoeYMoG",
        "outputId": "66532182-7fef-45e9-f19d-eef84ca74b8a"
      },
      "source": [
        "xx = np.array([1,2,3])\n",
        "width = 0.15\n",
        "ax = plt.subplot(111)\n",
        "ax.bar( xx - width, height=np.array(nb_prf_x), width=width, color='b', align='center', label='NB', tick_label=['Precision', 'Recall', 'f1'])\n",
        "ax.bar(xx ,height=np.array(log_prf_x), width=width, color='g', align='center', label='Log_Reg')\n",
        "ax.bar(xx + width, height=np.array(svm_prf_x), width=width, color='r', align='center', label='SVM')\n",
        "ax.bar(xx + 2*width, height=np.array(rf_prf_x), width=width, color='y', align='center', label='Random Forest')\n",
        "ax.bar(xx + 3*width, height=np.array(gb_prf_x), width=width, color='black', align='center', label='Gradient Boosting')\n",
        "\n",
        "plt.xlabel('Classification Metrics @ Cross validation')\n",
        "plt.ylabel('Scores')\n",
        "plt.legend(loc='lower right')\n",
        "plt.show()"
      ],
      "execution_count": null,
      "outputs": [
        {
          "output_type": "display_data",
          "data": {
            "image/png": "[encoded data removed]",
            "text/plain": [
              "<Figure size 432x288 with 1 Axes>"
            ]
          },
          "metadata": {
            "needs_background": "light"
          }
        }
      ]
    },
    {
      "cell_type": "markdown",
      "metadata": {
        "id": "phyaaaYKeuZg"
      },
      "source": [
        "# prediction"
      ]
    },
    {
      "cell_type": "code",
      "metadata": {
        "colab": {
          "base_uri": "https://localhost:8080/"
        },
        "id": "IEgeOW5gez4f",
        "outputId": "069dc39f-f5a8-435d-bd1c-87f579e7c73c"
      },
      "source": [
        "from sklearn import preprocessing\n",
        "\n",
        "predict_text, vectorizer = compute_tfidf(test_df['sentence'], stop_words, ngram_range, max_features=1014)"
      ],
      "execution_count": null,
      "outputs": [
        {
          "output_type": "stream",
          "name": "stdout",
          "text": [
            "Computing tfidf features...done!\n"
          ]
        }
      ]
    },
    {
      "cell_type": "code",
      "metadata": {
        "colab": {
          "base_uri": "https://localhost:8080/"
        },
        "id": "8VPRfbr_f_Rk",
        "outputId": "44197de7-b4b8-4c6b-b2a4-97344911ef67"
      },
      "source": [
        "predict_text.shape"
      ],
      "execution_count": null,
      "outputs": [
        {
          "output_type": "execute_result",
          "data": {
            "text/plain": [
              "(28437, 1014)"
            ]
          },
          "metadata": {},
          "execution_count": 30
        }
      ]
    },
    {
      "cell_type": "code",
      "metadata": {
        "colab": {
          "base_uri": "https://localhost:8080/"
        },
        "id": "ed4tvewbfH0u",
        "outputId": "e191d866-29bf-4e12-87cf-621a2e1c32b2"
      },
      "source": [
        "pred = log_model.predict(predict_text)\n",
        "pred"
      ],
      "execution_count": null,
      "outputs": [
        {
          "output_type": "execute_result",
          "data": {
            "text/plain": [
              "array([0, 3, 3, ..., 0, 0, 0])"
            ]
          },
          "metadata": {},
          "execution_count": 31
        }
      ]
    },
    {
      "cell_type": "code",
      "metadata": {
        "colab": {
          "base_uri": "https://localhost:8080/"
        },
        "id": "30NIYMxNmtU8",
        "outputId": "98933e45-8d88-426f-d0b0-c13dd2798c17"
      },
      "source": [
        "pred.shape"
      ],
      "execution_count": null,
      "outputs": [
        {
          "output_type": "execute_result",
          "data": {
            "text/plain": [
              "(28437,)"
            ]
          },
          "metadata": {},
          "execution_count": 32
        }
      ]
    },
    {
      "cell_type": "code",
      "metadata": {
        "colab": {
          "base_uri": "https://localhost:8080/"
        },
        "id": "-4MDbcFlnVDP",
        "outputId": "d15393ae-25b6-4627-dbd6-ef5208f73380"
      },
      "source": [
        "test_df.shape"
      ],
      "execution_count": null,
      "outputs": [
        {
          "output_type": "execute_result",
          "data": {
            "text/plain": [
              "(28437, 3)"
            ]
          },
          "metadata": {},
          "execution_count": 33
        }
      ]
    },
    {
      "cell_type": "code",
      "metadata": {
        "id": "8QkCfmPOvLD1"
      },
      "source": [
        "pred_x = np.array(pred)"
      ],
      "execution_count": null,
      "outputs": []
    },
    {
      "cell_type": "code",
      "metadata": {
        "colab": {
          "base_uri": "https://localhost:8080/"
        },
        "id": "Qo3kpyqXkreR",
        "outputId": "5f02d0ff-e233-4fb0-b022-ddb459d7ea15"
      },
      "source": [
        "ans = np.append(test_df, pred_x.reshape(len(pred_x),1), 1)\n",
        "ans[:, [0, 3]]"
      ],
      "execution_count": null,
      "outputs": [
        {
          "output_type": "execute_result",
          "data": {
            "text/plain": [
              "array([['pb-09-0000', 0],\n",
              "       ['pb-09-0001', 3],\n",
              "       ['pb-09-0002', 3],\n",
              "       ...,\n",
              "       ['pb-71-0430', 0],\n",
              "       ['pb-71-0431', 0],\n",
              "       ['pb-71-0432', 0]], dtype=object)"
            ]
          },
          "metadata": {},
          "execution_count": 35
        }
      ]
    },
    {
      "cell_type": "code",
      "metadata": {
        "colab": {
          "base_uri": "https://localhost:8080/"
        },
        "id": "lJu1nLo97qas",
        "outputId": "95731618-49ee-4631-f4e5-093890bf3de8"
      },
      "source": [
        "ans"
      ],
      "execution_count": null,
      "outputs": [
        {
          "output_type": "execute_result",
          "data": {
            "text/plain": [
              "array([['pb-09-0000', 'PART\\xa0I', 'Form10k_09', 0],\n",
              "       ['pb-09-0001',\n",
              "        'In this Annual Report on Form 10-K, unless otherwise mentioned, the terms the “Company”, “we”, “us” and “our” refer to Dime Community Bancshares, Inc. and our wholly-owned subsidiary, Dime Community Bank (the “Bank”).',\n",
              "        'Form10k_09', 3],\n",
              "       ['pb-09-0002',\n",
              "        'We use the term “Holding Company” to refer solely to Dime Community Bancshares, Inc. and not to our consolidated subsidiary.',\n",
              "        'Form10k_09', 3],\n",
              "       ...,\n",
              "       ['pb-71-0430', 'Item 15.', 'Form10k_71', 0],\n",
              "       ['pb-71-0431', 'Exhibits', 'Form10k_71', 0],\n",
              "       ['pb-71-0432',\n",
              "        'The following exhibits are includedas part of this report by reference:',\n",
              "        'Form10k_71', 0]], dtype=object)"
            ]
          },
          "metadata": {},
          "execution_count": 36
        }
      ]
    },
    {
      "cell_type": "code",
      "metadata": {
        "colab": {
          "base_uri": "https://localhost:8080/",
          "height": 202
        },
        "id": "PL4g_dHoAMFp",
        "outputId": "bf2c6104-d452-4b06-fabd-553e5a5ccdea"
      },
      "source": [
        "df_f = pd.DataFrame(ans[:, [0, 3]])\n",
        "df_f.head()"
      ],
      "execution_count": null,
      "outputs": [
        {
          "output_type": "execute_result",
          "data": {
            "text/html": [
              "<div>\n",
              "<style scoped>\n",
              "    .dataframe tbody tr th:only-of-type {\n",
              "        vertical-align: middle;\n",
              "    }\n",
              "\n",
              "    .dataframe tbody tr th {\n",
              "        vertical-align: top;\n",
              "    }\n",
              "\n",
              "    .dataframe thead th {\n",
              "        text-align: right;\n",
              "    }\n",
              "</style>\n",
              "<table border=\"1\" class=\"dataframe\">\n",
              "  <thead>\n",
              "    <tr style=\"text-align: right;\">\n",
              "      <th></th>\n",
              "      <th>0</th>\n",
              "      <th>1</th>\n",
              "    </tr>\n",
              "  </thead>\n",
              "  <tbody>\n",
              "    <tr>\n",
              "      <th>0</th>\n",
              "      <td>pb-09-0000</td>\n",
              "      <td>0</td>\n",
              "    </tr>\n",
              "    <tr>\n",
              "      <th>1</th>\n",
              "      <td>pb-09-0001</td>\n",
              "      <td>3</td>\n",
              "    </tr>\n",
              "    <tr>\n",
              "      <th>2</th>\n",
              "      <td>pb-09-0002</td>\n",
              "      <td>3</td>\n",
              "    </tr>\n",
              "    <tr>\n",
              "      <th>3</th>\n",
              "      <td>pb-09-0003</td>\n",
              "      <td>0</td>\n",
              "    </tr>\n",
              "    <tr>\n",
              "      <th>4</th>\n",
              "      <td>pb-09-0004</td>\n",
              "      <td>0</td>\n",
              "    </tr>\n",
              "  </tbody>\n",
              "</table>\n",
              "</div>"
            ],
            "text/plain": [
              "            0  1\n",
              "0  pb-09-0000  0\n",
              "1  pb-09-0001  3\n",
              "2  pb-09-0002  3\n",
              "3  pb-09-0003  0\n",
              "4  pb-09-0004  0"
            ]
          },
          "metadata": {},
          "execution_count": 37
        }
      ]
    },
    {
      "cell_type": "code",
      "metadata": {
        "id": "Vl25fhT4AWWo"
      },
      "source": [
        "df_f.to_csv(f'/content/drive/MyDrive/data/output2.tsv', header = False, index=False, sep='\\t')"
      ],
      "execution_count": null,
      "outputs": []
    },
    {
      "cell_type": "markdown",
      "metadata": {
        "id": "ax5E34NUA6JL"
      },
      "source": [
        "0.0435300\n",
        "\n",
        "Logistic Regression 0.0477752"
      ]
    },
    {
      "cell_type": "markdown",
      "metadata": {
        "id": "DZlC9HLL_kr8"
      },
      "source": [
        "# XGBOOST"
      ]
    },
    {
      "cell_type": "code",
      "metadata": {
        "colab": {
          "base_uri": "https://localhost:8080/"
        },
        "id": "i-c9ADYQFk3W",
        "outputId": "38f771e7-10d5-4a0b-c7cd-9fc49ac03b2a"
      },
      "source": [
        "import xgboost as xgb\n",
        "\n",
        "xgb_train = xgb.DMatrix(X_train, label=y_train)\n",
        "xgb_test = xgb.DMatrix(X_test, label=y_test)\n",
        "\n",
        "# setup parameters for xgboost\n",
        "param = {}\n",
        "# use softmax multi-class classification\n",
        "param['objective'] = 'multi:softmax'\n",
        "param['eta'] = 0.05\n",
        "param['max_depth'] = 12\n",
        "param['nthread'] = 4\n",
        "param['num_class'] = 7\n",
        "param['gpu_id'] = 0\n",
        "\n",
        "watchlist = [(xgb_train, 'train'), (xgb_test, 'test')]\n",
        "num_round = 5\n",
        "bst = xgb.train(param, xgb_train, num_round)\n",
        "\n",
        "bst = xgb.train(param, xgb_train, num_round, watchlist)\n",
        "# get prediction\n",
        "pred = bst.predict(xgb_test)\n",
        "error_rate = np.sum(pred != y_test) / y_test.shape[0]\n",
        "print('Test error using softmax = {}'.format(error_rate))\n"
      ],
      "execution_count": null,
      "outputs": [
        {
          "output_type": "stream",
          "name": "stdout",
          "text": [
            "[0]\ttrain-merror:0.21732\ttest-merror:0.407895\n",
            "[1]\ttrain-merror:0.202614\ttest-merror:0.388158\n",
            "[2]\ttrain-merror:0.189542\ttest-merror:0.407895\n",
            "[3]\ttrain-merror:0.19281\ttest-merror:0.407895\n",
            "[4]\ttrain-merror:0.184641\ttest-merror:0.394737\n",
            "Test error using softmax = 0.39473684210526316\n"
          ]
        }
      ]
    },
    {
      "cell_type": "code",
      "metadata": {
        "colab": {
          "base_uri": "https://localhost:8080/"
        },
        "id": "BhSZdprP-OOm",
        "outputId": "881ec5ef-4e5a-44c2-9734-56c94527bd7b"
      },
      "source": [
        "pred"
      ],
      "execution_count": null,
      "outputs": [
        {
          "output_type": "execute_result",
          "data": {
            "text/plain": [
              "array([3., 1., 3., 0., 0., 0., 0., 0., 1., 2., 2., 0., 1., 2., 0., 0., 1.,\n",
              "       0., 0., 1., 2., 3., 2., 0., 0., 2., 1., 0., 1., 1., 0., 0., 0., 2.,\n",
              "       1., 0., 2., 2., 0., 0., 1., 0., 3., 0., 1., 3., 3., 1., 0., 3., 2.,\n",
              "       2., 2., 1., 3., 3., 0., 2., 2., 0., 1., 3., 3., 3., 2., 1., 2., 2.,\n",
              "       3., 3., 0., 0., 2., 3., 0., 0., 0., 0., 1., 0., 3., 1., 0., 2., 2.,\n",
              "       3., 0., 2., 1., 2., 2., 0., 0., 0., 1., 0., 2., 0., 0., 0., 0., 0.,\n",
              "       2., 0., 0., 3., 3., 3., 0., 0., 3., 0., 3., 1., 1., 0., 0., 0., 0.,\n",
              "       1., 3., 0., 0., 1., 3., 3., 0., 2., 2., 2., 1., 0., 2., 1., 3., 1.,\n",
              "       3., 1., 0., 0., 1., 0., 0., 3., 2., 0., 3., 2., 0., 1., 1., 0.],\n",
              "      dtype=float32)"
            ]
          },
          "metadata": {},
          "execution_count": 40
        }
      ]
    },
    {
      "cell_type": "code",
      "metadata": {
        "colab": {
          "base_uri": "https://localhost:8080/"
        },
        "id": "qPD9kx51DSPr",
        "outputId": "22dd860c-d658-4995-883e-5e383b33f444"
      },
      "source": [
        "xgb_pred = xgb.DMatrix(predict_text)\n",
        "\n",
        "pred3 = bst.predict(xgb_pred)\n",
        "pred3"
      ],
      "execution_count": null,
      "outputs": [
        {
          "output_type": "execute_result",
          "data": {
            "text/plain": [
              "array([0., 3., 3., ..., 0., 0., 0.], dtype=float32)"
            ]
          },
          "metadata": {},
          "execution_count": 41
        }
      ]
    },
    {
      "cell_type": "code",
      "metadata": {
        "id": "O2mHphj1DvtE"
      },
      "source": [
        "pred3_x = np.array(pred3)\n",
        "ans3 = np.append(test_df, pred3_x.reshape(len(pred3_x),1), 1)\n",
        "ans3[:, [0, 3]]\n",
        "df_f3 = pd.DataFrame(ans3[:, [0, 3]])\n",
        "df_f3.head()\n",
        "\n",
        "df_f3.to_csv(f'/content/drive/MyDrive/data/output3.tsv', header = False, index=False, sep='\\t')"
      ],
      "execution_count": null,
      "outputs": []
    }
  ]
}